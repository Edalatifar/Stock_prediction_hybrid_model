{
 "cells": [
  {
   "cell_type": "code",
   "execution_count": 49,
   "metadata": {},
   "outputs": [],
   "source": [
    "import pandas as pd"
   ]
  },
  {
   "cell_type": "code",
   "execution_count": 50,
   "metadata": {},
   "outputs": [],
   "source": [
    "import numpy as np"
   ]
  },
  {
   "cell_type": "code",
   "execution_count": 51,
   "metadata": {},
   "outputs": [],
   "source": [
    "df1=pd.read_csv('Regressor_results_mod.csv')\n",
    "df2=pd.read_csv('RNN_results.csv')"
   ]
  },
  {
   "cell_type": "code",
   "execution_count": 52,
   "metadata": {},
   "outputs": [
    {
     "data": {
      "text/plain": [
       "2586"
      ]
     },
     "execution_count": 52,
     "metadata": {},
     "output_type": "execute_result"
    }
   ],
   "source": [
    "len(df1)"
   ]
  },
  {
   "cell_type": "code",
   "execution_count": 53,
   "metadata": {},
   "outputs": [
    {
     "data": {
      "text/plain": [
       "2586"
      ]
     },
     "execution_count": 53,
     "metadata": {},
     "output_type": "execute_result"
    }
   ],
   "source": [
    "len(df2)"
   ]
  },
  {
   "cell_type": "code",
   "execution_count": 54,
   "metadata": {},
   "outputs": [],
   "source": [
    "df=df1.join(df2,how='outer')\n"
   ]
  },
  {
   "cell_type": "code",
   "execution_count": 55,
   "metadata": {},
   "outputs": [
    {
     "data": {
      "text/html": [
       "<div>\n",
       "<style scoped>\n",
       "    .dataframe tbody tr th:only-of-type {\n",
       "        vertical-align: middle;\n",
       "    }\n",
       "\n",
       "    .dataframe tbody tr th {\n",
       "        vertical-align: top;\n",
       "    }\n",
       "\n",
       "    .dataframe thead th {\n",
       "        text-align: right;\n",
       "    }\n",
       "</style>\n",
       "<table border=\"1\" class=\"dataframe\">\n",
       "  <thead>\n",
       "    <tr style=\"text-align: right;\">\n",
       "      <th></th>\n",
       "      <th>High_regress</th>\n",
       "      <th>Low_regress</th>\n",
       "      <th>Open_regress</th>\n",
       "      <th>Close_regress</th>\n",
       "      <th>High_RNN</th>\n",
       "      <th>Low_RNN</th>\n",
       "      <th>Open_RNN</th>\n",
       "      <th>Close_RNN</th>\n",
       "    </tr>\n",
       "  </thead>\n",
       "  <tbody>\n",
       "    <tr>\n",
       "      <th>0</th>\n",
       "      <td>176.166031</td>\n",
       "      <td>172.906555</td>\n",
       "      <td>174.035049</td>\n",
       "      <td>174.949005</td>\n",
       "      <td>-0.730683</td>\n",
       "      <td>-0.702834</td>\n",
       "      <td>-0.701247</td>\n",
       "      <td>-0.697405</td>\n",
       "    </tr>\n",
       "    <tr>\n",
       "      <th>1</th>\n",
       "      <td>135.153732</td>\n",
       "      <td>132.452988</td>\n",
       "      <td>133.442474</td>\n",
       "      <td>134.097382</td>\n",
       "      <td>0.331519</td>\n",
       "      <td>0.342548</td>\n",
       "      <td>0.321756</td>\n",
       "      <td>0.335208</td>\n",
       "    </tr>\n",
       "    <tr>\n",
       "      <th>2</th>\n",
       "      <td>134.276260</td>\n",
       "      <td>131.587463</td>\n",
       "      <td>132.573990</td>\n",
       "      <td>133.223358</td>\n",
       "      <td>-0.249825</td>\n",
       "      <td>-0.212222</td>\n",
       "      <td>-0.208299</td>\n",
       "      <td>-0.198306</td>\n",
       "    </tr>\n",
       "    <tr>\n",
       "      <th>3</th>\n",
       "      <td>127.860909</td>\n",
       "      <td>125.259506</td>\n",
       "      <td>126.224289</td>\n",
       "      <td>126.833145</td>\n",
       "      <td>-0.115043</td>\n",
       "      <td>-0.102053</td>\n",
       "      <td>-0.110373</td>\n",
       "      <td>-0.095470</td>\n",
       "    </tr>\n",
       "    <tr>\n",
       "      <th>4</th>\n",
       "      <td>163.309052</td>\n",
       "      <td>160.224731</td>\n",
       "      <td>161.309647</td>\n",
       "      <td>162.142395</td>\n",
       "      <td>-0.054895</td>\n",
       "      <td>-0.038586</td>\n",
       "      <td>-0.049983</td>\n",
       "      <td>-0.035920</td>\n",
       "    </tr>\n",
       "  </tbody>\n",
       "</table>\n",
       "</div>"
      ],
      "text/plain": [
       "   High_regress  Low_regress  Open_regress  Close_regress  High_RNN   Low_RNN  \\\n",
       "0    176.166031   172.906555    174.035049     174.949005 -0.730683 -0.702834   \n",
       "1    135.153732   132.452988    133.442474     134.097382  0.331519  0.342548   \n",
       "2    134.276260   131.587463    132.573990     133.223358 -0.249825 -0.212222   \n",
       "3    127.860909   125.259506    126.224289     126.833145 -0.115043 -0.102053   \n",
       "4    163.309052   160.224731    161.309647     162.142395 -0.054895 -0.038586   \n",
       "\n",
       "   Open_RNN  Close_RNN  \n",
       "0 -0.701247  -0.697405  \n",
       "1  0.321756   0.335208  \n",
       "2 -0.208299  -0.198306  \n",
       "3 -0.110373  -0.095470  \n",
       "4 -0.049983  -0.035920  "
      ]
     },
     "execution_count": 55,
     "metadata": {},
     "output_type": "execute_result"
    }
   ],
   "source": [
    "df.head()"
   ]
  },
  {
   "cell_type": "code",
   "execution_count": 56,
   "metadata": {},
   "outputs": [],
   "source": [
    "df_3=pd.read_csv('dataset_target.csv')"
   ]
  },
  {
   "cell_type": "code",
   "execution_count": 57,
   "metadata": {},
   "outputs": [],
   "source": [
    "dates=df_3.iloc[:]['Date']"
   ]
  },
  {
   "cell_type": "code",
   "execution_count": 58,
   "metadata": {},
   "outputs": [],
   "source": [
    "date_2=dates[50:]"
   ]
  },
  {
   "cell_type": "code",
   "execution_count": 59,
   "metadata": {},
   "outputs": [],
   "source": [
    "date_p=pd.DataFrame(list(zip(date_2)),columns=['Date'])"
   ]
  },
  {
   "cell_type": "code",
   "execution_count": 60,
   "metadata": {},
   "outputs": [
    {
     "data": {
      "text/html": [
       "<div>\n",
       "<style scoped>\n",
       "    .dataframe tbody tr th:only-of-type {\n",
       "        vertical-align: middle;\n",
       "    }\n",
       "\n",
       "    .dataframe tbody tr th {\n",
       "        vertical-align: top;\n",
       "    }\n",
       "\n",
       "    .dataframe thead th {\n",
       "        text-align: right;\n",
       "    }\n",
       "</style>\n",
       "<table border=\"1\" class=\"dataframe\">\n",
       "  <thead>\n",
       "    <tr style=\"text-align: right;\">\n",
       "      <th></th>\n",
       "      <th>Date</th>\n",
       "    </tr>\n",
       "  </thead>\n",
       "  <tbody>\n",
       "    <tr>\n",
       "      <th>0</th>\n",
       "      <td>2010-03-16</td>\n",
       "    </tr>\n",
       "    <tr>\n",
       "      <th>1</th>\n",
       "      <td>2010-03-17</td>\n",
       "    </tr>\n",
       "    <tr>\n",
       "      <th>2</th>\n",
       "      <td>2010-03-18</td>\n",
       "    </tr>\n",
       "    <tr>\n",
       "      <th>3</th>\n",
       "      <td>2010-03-19</td>\n",
       "    </tr>\n",
       "    <tr>\n",
       "      <th>4</th>\n",
       "      <td>2010-03-22</td>\n",
       "    </tr>\n",
       "  </tbody>\n",
       "</table>\n",
       "</div>"
      ],
      "text/plain": [
       "         Date\n",
       "0  2010-03-16\n",
       "1  2010-03-17\n",
       "2  2010-03-18\n",
       "3  2010-03-19\n",
       "4  2010-03-22"
      ]
     },
     "execution_count": 60,
     "metadata": {},
     "output_type": "execute_result"
    }
   ],
   "source": [
    "date_p.head()"
   ]
  },
  {
   "cell_type": "code",
   "execution_count": 66,
   "metadata": {},
   "outputs": [],
   "source": [
    "date_p_2=date_p.join(df,how='outer')"
   ]
  },
  {
   "cell_type": "code",
   "execution_count": 67,
   "metadata": {},
   "outputs": [
    {
     "data": {
      "text/html": [
       "<div>\n",
       "<style scoped>\n",
       "    .dataframe tbody tr th:only-of-type {\n",
       "        vertical-align: middle;\n",
       "    }\n",
       "\n",
       "    .dataframe tbody tr th {\n",
       "        vertical-align: top;\n",
       "    }\n",
       "\n",
       "    .dataframe thead th {\n",
       "        text-align: right;\n",
       "    }\n",
       "</style>\n",
       "<table border=\"1\" class=\"dataframe\">\n",
       "  <thead>\n",
       "    <tr style=\"text-align: right;\">\n",
       "      <th></th>\n",
       "      <th>Date</th>\n",
       "      <th>High_regress</th>\n",
       "      <th>Low_regress</th>\n",
       "      <th>Open_regress</th>\n",
       "      <th>Close_regress</th>\n",
       "      <th>High_RNN</th>\n",
       "      <th>Low_RNN</th>\n",
       "      <th>Open_RNN</th>\n",
       "      <th>Close_RNN</th>\n",
       "    </tr>\n",
       "  </thead>\n",
       "  <tbody>\n",
       "    <tr>\n",
       "      <th>0</th>\n",
       "      <td>2010-03-16</td>\n",
       "      <td>176.166031</td>\n",
       "      <td>172.906555</td>\n",
       "      <td>174.035049</td>\n",
       "      <td>174.949005</td>\n",
       "      <td>-0.730683</td>\n",
       "      <td>-0.702834</td>\n",
       "      <td>-0.701247</td>\n",
       "      <td>-0.697405</td>\n",
       "    </tr>\n",
       "    <tr>\n",
       "      <th>1</th>\n",
       "      <td>2010-03-17</td>\n",
       "      <td>135.153732</td>\n",
       "      <td>132.452988</td>\n",
       "      <td>133.442474</td>\n",
       "      <td>134.097382</td>\n",
       "      <td>0.331519</td>\n",
       "      <td>0.342548</td>\n",
       "      <td>0.321756</td>\n",
       "      <td>0.335208</td>\n",
       "    </tr>\n",
       "    <tr>\n",
       "      <th>2</th>\n",
       "      <td>2010-03-18</td>\n",
       "      <td>134.276260</td>\n",
       "      <td>131.587463</td>\n",
       "      <td>132.573990</td>\n",
       "      <td>133.223358</td>\n",
       "      <td>-0.249825</td>\n",
       "      <td>-0.212222</td>\n",
       "      <td>-0.208299</td>\n",
       "      <td>-0.198306</td>\n",
       "    </tr>\n",
       "    <tr>\n",
       "      <th>3</th>\n",
       "      <td>2010-03-19</td>\n",
       "      <td>127.860909</td>\n",
       "      <td>125.259506</td>\n",
       "      <td>126.224289</td>\n",
       "      <td>126.833145</td>\n",
       "      <td>-0.115043</td>\n",
       "      <td>-0.102053</td>\n",
       "      <td>-0.110373</td>\n",
       "      <td>-0.095470</td>\n",
       "    </tr>\n",
       "    <tr>\n",
       "      <th>4</th>\n",
       "      <td>2010-03-22</td>\n",
       "      <td>163.309052</td>\n",
       "      <td>160.224731</td>\n",
       "      <td>161.309647</td>\n",
       "      <td>162.142395</td>\n",
       "      <td>-0.054895</td>\n",
       "      <td>-0.038586</td>\n",
       "      <td>-0.049983</td>\n",
       "      <td>-0.035920</td>\n",
       "    </tr>\n",
       "  </tbody>\n",
       "</table>\n",
       "</div>"
      ],
      "text/plain": [
       "         Date  High_regress  Low_regress  Open_regress  Close_regress  \\\n",
       "0  2010-03-16    176.166031   172.906555    174.035049     174.949005   \n",
       "1  2010-03-17    135.153732   132.452988    133.442474     134.097382   \n",
       "2  2010-03-18    134.276260   131.587463    132.573990     133.223358   \n",
       "3  2010-03-19    127.860909   125.259506    126.224289     126.833145   \n",
       "4  2010-03-22    163.309052   160.224731    161.309647     162.142395   \n",
       "\n",
       "   High_RNN   Low_RNN  Open_RNN  Close_RNN  \n",
       "0 -0.730683 -0.702834 -0.701247  -0.697405  \n",
       "1  0.331519  0.342548  0.321756   0.335208  \n",
       "2 -0.249825 -0.212222 -0.208299  -0.198306  \n",
       "3 -0.115043 -0.102053 -0.110373  -0.095470  \n",
       "4 -0.054895 -0.038586 -0.049983  -0.035920  "
      ]
     },
     "execution_count": 67,
     "metadata": {},
     "output_type": "execute_result"
    }
   ],
   "source": [
    "date_p_2.head()"
   ]
  },
  {
   "cell_type": "code",
   "execution_count": 68,
   "metadata": {},
   "outputs": [],
   "source": [
    "date_p_2.to_csv('dated_list.csv',index=False)"
   ]
  },
  {
   "cell_type": "code",
   "execution_count": 83,
   "metadata": {},
   "outputs": [],
   "source": [
    "df_3=pd.read_csv('Amazon_details_final.csv')"
   ]
  },
  {
   "cell_type": "code",
   "execution_count": 84,
   "metadata": {},
   "outputs": [
    {
     "data": {
      "text/plain": [
       "495"
      ]
     },
     "execution_count": 84,
     "metadata": {},
     "output_type": "execute_result"
    }
   ],
   "source": [
    "len(df_3)"
   ]
  },
  {
   "cell_type": "code",
   "execution_count": 87,
   "metadata": {},
   "outputs": [],
   "source": [
    "df=pd.read_csv('dated_list.csv')"
   ]
  },
  {
   "cell_type": "code",
   "execution_count": 88,
   "metadata": {},
   "outputs": [
    {
     "data": {
      "text/plain": [
       "2586"
      ]
     },
     "execution_count": 88,
     "metadata": {},
     "output_type": "execute_result"
    }
   ],
   "source": [
    "len(df)"
   ]
  },
  {
   "cell_type": "code",
   "execution_count": 89,
   "metadata": {},
   "outputs": [],
   "source": [
    "i=0\n",
    "dic={}\n",
    "while i<len(df_3):\n",
    "    dic[df_3.iloc[i]['dates']]=df_3.iloc[i]['events']\n",
    "    i+=1"
   ]
  },
  {
   "cell_type": "code",
   "execution_count": 96,
   "metadata": {},
   "outputs": [],
   "source": [
    "i=0\n",
    "events=[]\n",
    "while i<len(df):\n",
    "    if dic.get(df.iloc[i]['Date']) is not None:\n",
    "        value=dic.get(df.iloc[i]['Date'])\n",
    "        events.append(1)\n",
    "    else:\n",
    "        events.append(0)\n",
    "    i+=1\n",
    "\n",
    "    "
   ]
  },
  {
   "cell_type": "code",
   "execution_count": 97,
   "metadata": {},
   "outputs": [],
   "source": [
    "df['events']=events"
   ]
  },
  {
   "cell_type": "code",
   "execution_count": 98,
   "metadata": {},
   "outputs": [
    {
     "data": {
      "text/html": [
       "<div>\n",
       "<style scoped>\n",
       "    .dataframe tbody tr th:only-of-type {\n",
       "        vertical-align: middle;\n",
       "    }\n",
       "\n",
       "    .dataframe tbody tr th {\n",
       "        vertical-align: top;\n",
       "    }\n",
       "\n",
       "    .dataframe thead th {\n",
       "        text-align: right;\n",
       "    }\n",
       "</style>\n",
       "<table border=\"1\" class=\"dataframe\">\n",
       "  <thead>\n",
       "    <tr style=\"text-align: right;\">\n",
       "      <th></th>\n",
       "      <th>Date</th>\n",
       "      <th>High_regress</th>\n",
       "      <th>Low_regress</th>\n",
       "      <th>Open_regress</th>\n",
       "      <th>Close_regress</th>\n",
       "      <th>High_RNN</th>\n",
       "      <th>Low_RNN</th>\n",
       "      <th>Open_RNN</th>\n",
       "      <th>Close_RNN</th>\n",
       "      <th>events</th>\n",
       "    </tr>\n",
       "  </thead>\n",
       "  <tbody>\n",
       "    <tr>\n",
       "      <th>0</th>\n",
       "      <td>2010-03-16</td>\n",
       "      <td>176.166031</td>\n",
       "      <td>172.906555</td>\n",
       "      <td>174.035049</td>\n",
       "      <td>174.949005</td>\n",
       "      <td>-0.730683</td>\n",
       "      <td>-0.702834</td>\n",
       "      <td>-0.701247</td>\n",
       "      <td>-0.697405</td>\n",
       "      <td>0</td>\n",
       "    </tr>\n",
       "    <tr>\n",
       "      <th>1</th>\n",
       "      <td>2010-03-17</td>\n",
       "      <td>135.153732</td>\n",
       "      <td>132.452988</td>\n",
       "      <td>133.442474</td>\n",
       "      <td>134.097382</td>\n",
       "      <td>0.331519</td>\n",
       "      <td>0.342548</td>\n",
       "      <td>0.321756</td>\n",
       "      <td>0.335208</td>\n",
       "      <td>0</td>\n",
       "    </tr>\n",
       "    <tr>\n",
       "      <th>2</th>\n",
       "      <td>2010-03-18</td>\n",
       "      <td>134.276260</td>\n",
       "      <td>131.587463</td>\n",
       "      <td>132.573990</td>\n",
       "      <td>133.223358</td>\n",
       "      <td>-0.249825</td>\n",
       "      <td>-0.212222</td>\n",
       "      <td>-0.208299</td>\n",
       "      <td>-0.198306</td>\n",
       "      <td>0</td>\n",
       "    </tr>\n",
       "    <tr>\n",
       "      <th>3</th>\n",
       "      <td>2010-03-19</td>\n",
       "      <td>127.860909</td>\n",
       "      <td>125.259506</td>\n",
       "      <td>126.224289</td>\n",
       "      <td>126.833145</td>\n",
       "      <td>-0.115043</td>\n",
       "      <td>-0.102053</td>\n",
       "      <td>-0.110373</td>\n",
       "      <td>-0.095470</td>\n",
       "      <td>0</td>\n",
       "    </tr>\n",
       "    <tr>\n",
       "      <th>4</th>\n",
       "      <td>2010-03-22</td>\n",
       "      <td>163.309052</td>\n",
       "      <td>160.224731</td>\n",
       "      <td>161.309647</td>\n",
       "      <td>162.142395</td>\n",
       "      <td>-0.054895</td>\n",
       "      <td>-0.038586</td>\n",
       "      <td>-0.049983</td>\n",
       "      <td>-0.035920</td>\n",
       "      <td>0</td>\n",
       "    </tr>\n",
       "  </tbody>\n",
       "</table>\n",
       "</div>"
      ],
      "text/plain": [
       "         Date  High_regress  Low_regress  Open_regress  Close_regress  \\\n",
       "0  2010-03-16    176.166031   172.906555    174.035049     174.949005   \n",
       "1  2010-03-17    135.153732   132.452988    133.442474     134.097382   \n",
       "2  2010-03-18    134.276260   131.587463    132.573990     133.223358   \n",
       "3  2010-03-19    127.860909   125.259506    126.224289     126.833145   \n",
       "4  2010-03-22    163.309052   160.224731    161.309647     162.142395   \n",
       "\n",
       "   High_RNN   Low_RNN  Open_RNN  Close_RNN  events  \n",
       "0 -0.730683 -0.702834 -0.701247  -0.697405       0  \n",
       "1  0.331519  0.342548  0.321756   0.335208       0  \n",
       "2 -0.249825 -0.212222 -0.208299  -0.198306       0  \n",
       "3 -0.115043 -0.102053 -0.110373  -0.095470       0  \n",
       "4 -0.054895 -0.038586 -0.049983  -0.035920       0  "
      ]
     },
     "execution_count": 98,
     "metadata": {},
     "output_type": "execute_result"
    }
   ],
   "source": [
    "df.head()"
   ]
  },
  {
   "cell_type": "code",
   "execution_count": 99,
   "metadata": {},
   "outputs": [],
   "source": [
    "df.to_csv('det_added.csv',index=False)"
   ]
  },
  {
   "cell_type": "code",
   "execution_count": 102,
   "metadata": {},
   "outputs": [],
   "source": [
    "df_k=df[df['events']==1]"
   ]
  },
  {
   "cell_type": "code",
   "execution_count": 103,
   "metadata": {},
   "outputs": [
    {
     "data": {
      "text/plain": [
       "304"
      ]
     },
     "execution_count": 103,
     "metadata": {},
     "output_type": "execute_result"
    }
   ],
   "source": [
    "len(df_k)"
   ]
  },
  {
   "cell_type": "code",
   "execution_count": null,
   "metadata": {},
   "outputs": [],
   "source": []
  },
  {
   "cell_type": "code",
   "execution_count": null,
   "metadata": {},
   "outputs": [],
   "source": []
  }
 ],
 "metadata": {
  "kernelspec": {
   "display_name": "Python 3",
   "language": "python",
   "name": "python3"
  },
  "language_info": {
   "codemirror_mode": {
    "name": "ipython",
    "version": 3
   },
   "file_extension": ".py",
   "mimetype": "text/x-python",
   "name": "python",
   "nbconvert_exporter": "python",
   "pygments_lexer": "ipython3",
   "version": "3.6.9"
  }
 },
 "nbformat": 4,
 "nbformat_minor": 2
}
